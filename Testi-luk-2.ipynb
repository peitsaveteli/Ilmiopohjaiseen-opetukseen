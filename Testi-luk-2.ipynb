{
 "cells": [
  {
   "cell_type": "markdown",
   "metadata": {
    "collapsed": true
   },
   "source": [
    "# Tiedettä tekemässä: isojen mittausten äärellä\n"
   ]
  },
  {
   "cell_type": "markdown",
   "metadata": {},
   "source": [
    " "
   ]
  },
  {
   "cell_type": "markdown",
   "metadata": {},
   "source": [
    "Kuten olet varmaan huomannut, sana \"data\" esiintyy nykymaailmassa vähän joka paikassa, niin koulussa kuin vaikka kotona nettiä selaillessakin. Lauseet kuten \"Google kerää käyttäjädataa\", \"ilmastotieteilijöiden keräämän datan mukaan\" tai \"Heartbleed-datavuoto aiheutti suuren riskin erinäisten palvelujen käyttäjille\" ovat nykyään uutisoinnin arkipäivää.\n",
    "\n",
    "Mutta mitä on data, erityisesti nyttemmin esiin noussut Big Data? Mistä kaikkialta sitä tulee, miksi sitä kerätään ja miten sitä käytetään? "
   ]
  },
  {
   "cell_type": "markdown",
   "metadata": {},
   "source": [
    "<img src=\"https://lh3.googleusercontent.com/SPPaTJUYenbLYZTuwIJw7a08nz55YDANDkXE1mqYtveXgkh3PwvEO5o9Wa14ctwiwIIWlhLQFBQeWJpFBOiwATxJJnuRtrnnP4ZckW8wFtSTJDL6EmewLZSbQwkpr6IRmSEZJqoABKYQrQIRtRnriiU5fOoSOUXaMeSIP_SO3fLlzrr2P4FKEGvd_H_aprTFv1xcOKVSIXnLKTdnQB0sRFeJxLjHroRoEpZNz6gXkK-RaWiSi0rbioWMMCdLpaFqHnJyr1H8QWriBIm7a5qI7s36GH5Ddzvic5IFA0mtts-Ln7vc2NyBrs5p6KDNxyHnQtIWl5dtKLg6IgrdqUq5ga80oQhT3rrvLOXss75dfguK46WlQq1Et2vzOoWgiHqVfnHWhOWJ213BF_IXkeEUufPWmXCHuEn3JLxPiDUX5hT772V_J4jm06hKHQ7X6dVhy-LPvTbbOVoJ3GPsyo_s89IRl-fp2wOmylSUgky-p3vbLJiKI2vfwuSlEfPCfs-MXqVPEwnAbwz9RyY5VNfSpiYFQ6QUZAwUC8oI6qUh88EYLFx1RDdiQTdka0XmGcJBfoioQuYQaz3Ec-KERF32BkOGFZsXcHX8MggoBJ4=w671-h546-no\" width=\"700px\">\n",
    "\n",
    "(Kuva muokattu artikkelista https://www.wired.com/2013/04/bigdata/)"
   ]
  },
  {
   "cell_type": "markdown",
   "metadata": {},
   "source": [
    "Kun muistetaan terabitin olevan noin 1000 gigabittiä, puhutaan valtavista määristä tietoa. Tätä tietoa kerätään eri muodoissa, sekä tarkoituksella että tarkoituksetta. Luonnontieteellisten kysymysten äärellä asioita mittaillaan useimmiten yritettäessä joko luokitella ympäröivää luontoa (eläinpopulaatioiden koot, peltoalueiden vuosituotannot...) tai etsittäessä vastauksia kiinnostaviin ongelmiin (missä ilmaston lämpeneminen näkyy pahiten, minne ihmiselimistössä kertyy vaarallisia aineita, mitä tapahtuu atomitason hiukkastörmäyksissä ja mitä niistä syntyy)."
   ]
  },
  {
   "cell_type": "markdown",
   "metadata": {},
   "source": [
    "## Data ja sen jako"
   ]
  },
  {
   "cell_type": "markdown",
   "metadata": {},
   "source": [
    " "
   ]
  },
  {
   "cell_type": "markdown",
   "metadata": {},
   "source": [
    "Suuri osa ihmiskunnan tuottamasta datasta on luonteeltaan salattua, se kun sisältää yritysten liikesalaisuuksia, valtioiden turvallisuusanalyysejä tai muita tekijöitä, joita ei välttämättä haluta näyttää ihan kaikille. Tiedeyhteisön tapauksessa on ideaalitilanteessa toisin: erityisesti luonnontieteissä oltaisiin parhaassa mahdollisessa maailmassa, mikäli tutkimukset voitaisiin jakaa suoraan ympäri maailmaa mahdollisimman monien nähtäville arvioitaviksi ja toistettaviksi, jotta nähtäisiin onko tuloksissa ja päätelmissä puutteita. Tämä ei aina toteudu, kuten vaikkapa lääkeyhtiöiden kohdennetun tutkimuksen jäädessä salaisuudeksi. Suljetuissa julkaisuissa hukataan kiinnostavia sivupolkuja, jotka laaja perustutkimus olisi voinut avata.\n",
    "\n",
    "Avoimesti saatavilla olevaa dataa on kuitenkin paljon ja tässä harjoitteessa lähdetään tutustumaan hieman siihen, miten sitä voisi hyödyntää erityisesti fysiikan yhteydessä. Harjoitteessa käytetään vähän ohjelmointia, kuten oikeassakin tieteellisessä laskennassa, mutta ei mitään hätää jos Python ei ole aiemmin tuttua. Tässähän sitä oppii!"
   ]
  },
  {
   "cell_type": "markdown",
   "metadata": {},
   "source": [
    "## CERN, LHC ja hiukkastutkimus"
   ]
  },
  {
   "cell_type": "markdown",
   "metadata": {},
   "source": [
    "Alustetaan ensin vähän tietokonettamme valikoimalla sille käyttöön muutama Pythonin tarvitsema paketti. Huomaa, että kukin koodinpätkä on tässä Notebookissa omana solunaan, jonka saat ajettua valitsemalla sen hiirellä ja painamalla Ctrl+Enter. Kun vieressä olevassa In [ ] -kohdassa näkyy * , koodia ajetaan. Jos siinä näkyy numero, solu on ajettu.\n",
    "\n",
    "Aja soluja mieluiten ensin järjestyksessä, jotta tietokone ymmärtää muuttujat oikein. Sen jälkeen voit alkaa vapaasti leikkimään ja kokeilemaan mitä koodilla saakaan aikaan. Jos kuitenkin saat notebookin jotenkin solmuun, paina yläriviltä \"Kernel\"-valikosta Restart & Clear Output, joka pyyhkii muutokset."
   ]
  },
  {
   "cell_type": "code",
   "execution_count": null,
   "metadata": {
    "collapsed": true
   },
   "outputs": [],
   "source": [
    "# Olen kommentti! Risuaitamerkeillä ja kommenteilla koodin saa paljon helppolukuisemmaksi.\n",
    "\n",
    "# Haetaan tarvittavat paketit. Pandas on data-analyysiä varten, numpy tieteellistä laskentaa ja\n",
    "# matplotlib.pyplot mahdollistaa kuvaajien piirtämisen. Annetaan näille lyhyemmät nimet (pd, np ja plt),\n",
    "# jotta myöhemmin niitä käytettäessä ei tarvitse kirjoittaa koko paketin nimeä.\n",
    "\n",
    "import pandas as pd\n",
    "import numpy as np\n",
    "import matplotlib.pyplot as plt\n",
    "%matplotlib inline"
   ]
  },
  {
   "cell_type": "markdown",
   "metadata": {},
   "source": [
    "CERN:in suurella koelaitteistolla, Large Hadron Colliderilla, päästään tutkimaan aineen perusluonnetta ja alkeishiukkasia paremmin kuin missään muualla maapallolla. Tutkijat keräävät miljardeja mittaustuloksia hiukkastörmäyksistä ja analysoivat näitä selvittääkseen, mitä niissä oikein tapahtuikaan.\n",
    "\n",
    "[Kurkista törmäykseen tällä 3D-mallilla!](http://opendata.web.cern.ch/visualise/events/cms#)\n",
    "\n",
    "Yksi koeasema LHC:n yhteydessä, CMS (Compact Muon Solenoid), julkaisee suuria määriä dataa avoimeen jakoon ([kuten nämä](http://opendata.web.cern.ch/record/545)). Tutkitaan tässä yhtä sellaista settiä."
   ]
  },
  {
   "cell_type": "code",
   "execution_count": null,
   "metadata": {},
   "outputs": [],
   "source": [
    "# Luodaan uusi taulukko CMS:n mittausdataa sisältävästä tiedostosta \"Zmumu.csv\" ja annetaan sen nimeksi 'datasetti'.\n",
    "\n",
    "datasetti = pd.read_csv('Zmumu.csv')"
   ]
  },
  {
   "cell_type": "markdown",
   "metadata": {},
   "source": [
    "CSV (Comma Separated Values) on hyvin yksinkertainen tapa esittää isoja määriä tietoja: paljon mittapisteitä tekstimuotoon kirjattuina, yleensä pilkulla erotettuina. Kun tietoa on paljon, on tällaisen lukeminen käsin kuitenkin jokseenkin turhauttavaa, joten otetaan tietokone apuun."
   ]
  },
  {
   "cell_type": "code",
   "execution_count": null,
   "metadata": {
    "collapsed": true
   },
   "outputs": [],
   "source": [
    "# Katsotaas millaista tietoa luomassamme datasetissä on.\n",
    "\n",
    "datasetti.head()\n",
    "\n",
    "# Kokeilepa laittaa sulkuihin numero. Millainen numeron on oltava ja miksi, käykö esimerkiksi desimaaliluku?"
   ]
  },
  {
   "cell_type": "code",
   "execution_count": null,
   "metadata": {
    "collapsed": true
   },
   "outputs": [],
   "source": [
    "# Jotta saadaan vähän parempi kuva käsitellyn datan määrästä, tarkistetaas montako rivejä kokonaisuudessaan on.\n",
    "\n",
    "len(datasetti)"
   ]
  },
  {
   "cell_type": "markdown",
   "metadata": {},
   "source": [
    "Aina ei ole kuitenkaan tarpeen tarkastella ihan kaikkea koetilanteesta muistiin kirjattua.\n",
    "\n",
    "Tässä datasetissä esimerkiksi tarkastellaan vain tapauksia, joissa törmäyksestä havainnoidaan kaksi tarpeeksi suurenergistä [myonia](https://fi.wikipedia.org/wiki/Myoni), jotka saattaisivat viitata syntymällään yhteen raskaampaan hiukkaseen. Fysiikassa on joukko tärkeitä säilymislakeja, kuten vaikkapa liikemäärän tai energian säilyminen. Tässä käsitellään niin kutsuttua [*invarianttia massaa, **M***](https://en.wikipedia.org/wiki/Invariant_mass), joka säilyy hyvin pienelläkin skaalalla, mutta on varsinaisesta fysikaalisesta massasta eroava matemaattinen käsite. Yksinkertaistettuna se ottaa suhteellisuusteorian mukaisesti huomioon myös hiukkasten suunnat ja nopeudet ja sen avulla voidaan selvittää, onko tietyissä kohdissa havainnoitujen kevyempien hiukkasten syntyminen kenties johtunut jonkun raskaammaan hiukkasen hajoamisesta. Tämä on hyödyllistä sikäli, että monet tällaiset raskaammat hiukkaset ovat niin lyhytikäisiä, ettei niitä sellaisinaan ehditä juuri havainnoimaan, mutta niiden olemassaolon kokeellinen varmistaminen on äärimmäisen tärkeää koko todellisuuden rakenteita kuvaavien teorioiden kannalta.\n",
    "\n",
    "Tällainen *epäsuora havainnointi* on fysiikan tutkimuksessa hyvin yleistä ja tärkeää, esimerkiksi avaruustutkimuksessa havainnoitaessa kaukaisten kohteiden spektrejä."
   ]
  },
  {
   "cell_type": "code",
   "execution_count": 1,
   "metadata": {
    "collapsed": true
   },
   "outputs": [],
   "source": [
    "# Irrotetaan nyt aiemmasta datasta sarake M, joka käsitteli invarianttia massaa\n",
    "# ja tallennetaan se muuttujaksi 'invariantti_massa'.\n",
    "\n",
    "invariantti_massa = datasetti['M']\n",
    "\n",
    "# Kirjoitapa tähän len-komento ja tarkista, montako mittapistettä tässä uudessa muuttujassa on. "
   ]
  },
  {
   "cell_type": "code",
   "execution_count": 2,
   "metadata": {
    "collapsed": true
   },
   "outputs": [],
   "source": [
    "# Luodaan tyhjä taulukko 'valitut', johon tullaan tallentamaan valittu määrä invariantin massan arvoja.\n",
    "# Tietokone on vähän tällainen, sille pitää kertoa että jokin on olemassa tai se ei usko.\n",
    "\n",
    "valitut = []"
   ]
  },
  {
   "cell_type": "markdown",
   "metadata": {},
   "source": [
    "Yksi monikäyttöinen ja vahva työkalu tutkijoille on [histogrammi](https://fi.wikipedia.org/wiki/Histogrammi). Yksinkertaisimmillaan se kertoo montako kertaa jokin tulos tapahtuu, kun tarkastellaan joukkoa tapahtumia. Kun joukko on suuri, kuten tässä meillä nyt on, tai vaikkapa kuvatessa valtion miljoonien asukkaiden pituutta se olisi, on näppärää antaa tietokoneen käsitellä data käsin piirtämisen sijaan.\n"
   ]
  },
  {
   "cell_type": "code",
   "execution_count": null,
   "metadata": {
    "collapsed": true
   },
   "outputs": [],
   "source": [
    "# Suoritetaan histogrammin piirtäminen pyplot-moduulin avulla:\n",
    "\n",
    "plt.hist(invariantti_massa, bins=100, range=(8,12))\n",
    "\n",
    "# Näillä riveillä ainoastaan määritellään otsikko sekä akseleiden tekstit.\n",
    "\n",
    "plt.xlabel('Invariantti massa [GeV/c²]')\n",
    "plt.ylabel('Tapahtumien lukumäärä')\n",
    "plt.title('Kahden myonin invariantin massan histogrammi \\n') # \\n luo uuden rivin otsikon muotoilua varten\n",
    "\n",
    "# Tehdään kuvaaja näkyväksi.\n",
    "\n",
    "plt.show()\n",
    "\n",
    "# Aja koodi useampaan kertaan:\n",
    "# Mitä tapahtuu, jos muutat binien määrää? Mitä bins määrittää? Mikä on mielestäsi paras arvo?\n",
    "# Entä range? Mitä käy, jos otat rangen määritelmän kokonaan pois? "
   ]
  },
  {
   "cell_type": "code",
   "execution_count": null,
   "metadata": {
    "collapsed": true
   },
   "outputs": [],
   "source": []
  },
  {
   "cell_type": "code",
   "execution_count": null,
   "metadata": {
    "collapsed": true
   },
   "outputs": [],
   "source": []
  },
  {
   "cell_type": "code",
   "execution_count": null,
   "metadata": {
    "collapsed": true
   },
   "outputs": [],
   "source": []
  },
  {
   "cell_type": "code",
   "execution_count": null,
   "metadata": {
    "collapsed": true
   },
   "outputs": [],
   "source": []
  },
  {
   "cell_type": "code",
   "execution_count": null,
   "metadata": {
    "collapsed": true
   },
   "outputs": [],
   "source": []
  },
  {
   "cell_type": "code",
   "execution_count": null,
   "metadata": {
    "collapsed": true
   },
   "outputs": [],
   "source": []
  },
  {
   "cell_type": "code",
   "execution_count": null,
   "metadata": {
    "collapsed": true
   },
   "outputs": [],
   "source": []
  },
  {
   "cell_type": "code",
   "execution_count": null,
   "metadata": {
    "collapsed": true
   },
   "outputs": [],
   "source": []
  },
  {
   "cell_type": "code",
   "execution_count": null,
   "metadata": {
    "collapsed": true
   },
   "outputs": [],
   "source": []
  },
  {
   "cell_type": "code",
   "execution_count": null,
   "metadata": {
    "collapsed": true
   },
   "outputs": [],
   "source": []
  },
  {
   "cell_type": "code",
   "execution_count": null,
   "metadata": {
    "collapsed": true
   },
   "outputs": [],
   "source": []
  },
  {
   "cell_type": "code",
   "execution_count": null,
   "metadata": {
    "collapsed": true
   },
   "outputs": [],
   "source": []
  },
  {
   "cell_type": "code",
   "execution_count": null,
   "metadata": {
    "collapsed": true
   },
   "outputs": [],
   "source": []
  }
 ],
 "metadata": {
  "kernelspec": {
   "display_name": "Python 3",
   "language": "python",
   "name": "python3"
  },
  "language_info": {
   "codemirror_mode": {
    "name": "ipython",
    "version": 3
   },
   "file_extension": ".py",
   "mimetype": "text/x-python",
   "name": "python",
   "nbconvert_exporter": "python",
   "pygments_lexer": "ipython3",
   "version": "3.6.3"
  }
 },
 "nbformat": 4,
 "nbformat_minor": 2
}
