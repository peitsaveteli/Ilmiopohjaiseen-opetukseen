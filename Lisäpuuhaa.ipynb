{
 "cells": [
  {
   "cell_type": "markdown",
   "metadata": {},
   "source": [
    "# Datasta ja esityksestä"
   ]
  },
  {
   "cell_type": "markdown",
   "metadata": {},
   "source": [
    " "
   ]
  },
  {
   "cell_type": "markdown",
   "metadata": {},
   "source": [
    "Nyt kun ollaan ehditty hieman kokeilemaan datan haltuunottoa ja tutustuttu histogrammiin työkaluna, kokeillaanpa leikkiä aineistoilla vähän lisää."
   ]
  },
  {
   "cell_type": "code",
   "execution_count": null,
   "metadata": {
    "collapsed": true
   },
   "outputs": [],
   "source": [
    "# Haetaan taas aluksi tarvittavat paketit. Pandas on data-analyysiä varten, numpy tieteellistä laskentaa ja\n",
    "# matplotlib.pyplot mahdollistaa kuvaajien piirtämisen. Annetaan näille lyhyemmät nimet (pd, np ja plt),\n",
    "# jotta myöhemmin niitä käytettäessä ei tarvitse kirjoittaa koko paketin nimeä.\n",
    "\n",
    "import pandas as pd\n",
    "import numpy as np\n",
    "import matplotlib.pyplot as plt\n",
    "%matplotlib inline"
   ]
  },
  {
   "cell_type": "markdown",
   "metadata": {},
   "source": [
    "### Tulkinnasta"
   ]
  },
  {
   "cell_type": "markdown",
   "metadata": {},
   "source": [
    "Vanha sanonta väittää, ettei mikään valehtele niinkuin tilasto. Tässä on tiettyä totuutta, sillä valittu esitystapa saattaa hyvinkin pyrkiä harhauttamaan lukijaansa tai painottamaan asioita, joita aineistosta ei voida suoraan sanoa. Yksi viimevuosien esimerkki kotimaassa olisi valtionvarainministeriön työttömien ja avoimien työpaikkojen määrää kuvaava [kaavio](https://i0.wp.com/informaatiomuotoilu.fi/wp-content/uploads/2017/02/VM-ty%C3%B6llisyysgrafiikka.png), jonka kahdet akselit voisi esittää myös samassa [mittakaavassa](https://i0.wp.com/informaatiomuotoilu.fi/wp-content/uploads/2017/02/Antti-Yrj%C3%B6sen-laatima-versio.jpeg).\n",
    "\n",
    "Katsotaanpa toista tilannetta, joka käsittelee myonitörmäyksiä."
   ]
  },
  {
   "cell_type": "code",
   "execution_count": null,
   "metadata": {
    "collapsed": true
   },
   "outputs": [],
   "source": [
    "# Haetaan taas tietokoneen muistiin aineistoa ja nimetään se 'datasetiksi'.\n",
    "\n",
    "datasetti = pd.read_csv('Dimuon_Doublemu.csv')"
   ]
  },
  {
   "cell_type": "code",
   "execution_count": null,
   "metadata": {
    "collapsed": true
   },
   "outputs": [],
   "source": [
    "# Kirjoita tähän komento, jolla näet mitä 'datasetti' sisältää (ts. katso sen ensimmäisiä rivejä).\n"
   ]
  },
  {
   "cell_type": "code",
   "execution_count": null,
   "metadata": {
    "collapsed": true
   },
   "outputs": [],
   "source": [
    "# Leikataan tästä päädatasta taas suurin osa pois, koska tarkastelemme jälleen havaittujen hiukkasten\n",
    "# massaa ja liiketiloja vastaavaa invariantia massaa.\n",
    "\n",
    "invariantti_massa = datasetti['M']\n",
    "\n",
    "# Piirretääs histogrammi.\n",
    "\n",
    "plt.hist(invariantti_massa, bins=50, range=(0,300))\n",
    "\n",
    "plt.xlabel('Invariantti massa [GeV]')\n",
    "#plt.ylabel('Tapahtumien lukumäärä')\n",
    "plt.ylabel('Olenkohan ihan oikein?')\n",
    "plt.title('Kahden myonin invariantin massan histogrammi \\n')\n",
    "\n",
    "plt.show()"
   ]
  },
  {
   "cell_type": "markdown",
   "metadata": {},
   "source": [
    "Ajettuasi äskeisen koodinpätkän, katso tuottamaasi kuvaajaa ja aja se uudelleen niin, että kuvaaja näyttää kiinnostavat asiat eikä pelkkää turhaa tyhjyyttä (säädä siis rajoja). Onkohan kuvaajassa muuten kaikki kohdillaan vai pitäisikö jotain muutakin korjata koodista?"
   ]
  },
  {
   "cell_type": "markdown",
   "metadata": {},
   "source": [
    "Fysikaalisesti kiinnostavaa on, että tässä aineistossa tutkitaan nyt tilanteita, joissa havaitaan kaksi myonia siten, että niillä on vastakkaiset sähköiset varaukset ja ainakin toinen niistä on koetilanteessa varmistettu useammalla mittalaitteella tosiaankin myoniksi. Datassa on silti paljon kohinaa, nimittäin käytännössä kaikki alle 50 GeV:iä vastaavat havainnot johtuvat taustatapahtumista eivätkä ole tässä yhteydessä kiinnostavia. Tällainen teoriapohjalta nouseva katkaiseminen on hyvin yleistä tutkimustöissä, kuten on myös mittalaitteistoihin liittyvä havaitun signaalin ja kohinan suhteen pohtiminenkin."
   ]
  },
  {
   "cell_type": "markdown",
   "metadata": {},
   "source": [
    "Tarkastellaan sitä kiinnostavampaa pätkää seuraavaksi: jossain 90 GeV:in kieppeillä näkyy piikki. Histogrammin koodissa voidaan asettaa range vaikkapa rajoihin (80,100). Kokeilehan yllä."
   ]
  },
  {
   "cell_type": "markdown",
   "metadata": {},
   "source": []
  },
  {
   "cell_type": "code",
   "execution_count": null,
   "metadata": {
    "collapsed": true
   },
   "outputs": [],
   "source": []
  },
  {
   "cell_type": "code",
   "execution_count": null,
   "metadata": {
    "collapsed": true
   },
   "outputs": [],
   "source": []
  },
  {
   "cell_type": "code",
   "execution_count": null,
   "metadata": {
    "collapsed": true
   },
   "outputs": [],
   "source": []
  },
  {
   "cell_type": "code",
   "execution_count": null,
   "metadata": {
    "collapsed": true
   },
   "outputs": [],
   "source": []
  },
  {
   "cell_type": "code",
   "execution_count": null,
   "metadata": {
    "collapsed": true
   },
   "outputs": [],
   "source": []
  },
  {
   "cell_type": "code",
   "execution_count": null,
   "metadata": {
    "collapsed": true
   },
   "outputs": [],
   "source": []
  },
  {
   "cell_type": "code",
   "execution_count": null,
   "metadata": {
    "collapsed": true
   },
   "outputs": [],
   "source": []
  },
  {
   "cell_type": "code",
   "execution_count": null,
   "metadata": {
    "collapsed": true
   },
   "outputs": [],
   "source": []
  },
  {
   "cell_type": "code",
   "execution_count": null,
   "metadata": {
    "collapsed": true
   },
   "outputs": [],
   "source": []
  }
 ],
 "metadata": {
  "kernelspec": {
   "display_name": "Python 3",
   "language": "python",
   "name": "python3"
  },
  "language_info": {
   "codemirror_mode": {
    "name": "ipython",
    "version": 3
   },
   "file_extension": ".py",
   "mimetype": "text/x-python",
   "name": "python",
   "nbconvert_exporter": "python",
   "pygments_lexer": "ipython3",
   "version": "3.6.3"
  }
 },
 "nbformat": 4,
 "nbformat_minor": 2
}
